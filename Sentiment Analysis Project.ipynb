{
 "cells": [
  {
   "cell_type": "markdown",
   "id": "ff8aa888",
   "metadata": {},
   "source": [
    "## Sentiment Analysis"
   ]
  },
  {
   "cell_type": "code",
   "execution_count": 6,
   "id": "a616d0f7",
   "metadata": {},
   "outputs": [],
   "source": [
    "import pandas as pd\n",
    "import requests\n",
    "from bs4 import BeautifulSoup\n",
    "import nltk\n",
    "import re\n",
    "import os\n",
    "import logging\n",
    "import matplotlib.pyplot as plt\n",
    "import seaborn as sns\n",
    "from sklearn.feature_extraction.text import CountVectorizer\n",
    "from sklearn.naive_bayes import MultinomialNB\n",
    "from sklearn.model_selection import train_test_split\n",
    "from sklearn.metrics import classification_report, accuracy_score"
   ]
  },
  {
   "cell_type": "code",
   "execution_count": 7,
   "id": "a93a7d3c",
   "metadata": {},
   "outputs": [
    {
     "name": "stderr",
     "output_type": "stream",
     "text": [
      "[nltk_data] Downloading package punkt to\n",
      "[nltk_data]     C:\\Users\\HP\\AppData\\Roaming\\nltk_data...\n",
      "[nltk_data]   Package punkt is already up-to-date!\n",
      "[nltk_data] Downloading package stopwords to\n",
      "[nltk_data]     C:\\Users\\HP\\AppData\\Roaming\\nltk_data...\n",
      "[nltk_data]   Package stopwords is already up-to-date!\n"
     ]
    },
    {
     "data": {
      "text/plain": [
       "True"
      ]
     },
     "execution_count": 7,
     "metadata": {},
     "output_type": "execute_result"
    }
   ],
   "source": [
    "nltk.download('punkt')\n",
    "nltk.download('stopwords')"
   ]
  },
  {
   "cell_type": "code",
   "execution_count": 8,
   "id": "10c1e4de",
   "metadata": {},
   "outputs": [],
   "source": [
    "logging.basicConfig(filename='sentiment_analysis.log', level=logging.INFO,\n",
    "                    format='%(asctime)s:%(levelname)s:%(message)s')"
   ]
  },
  {
   "cell_type": "markdown",
   "id": "e09af242",
   "metadata": {},
   "source": [
    "#### Loading the Stop Words"
   ]
  },
  {
   "cell_type": "code",
   "execution_count": 9,
   "id": "c05f66b4",
   "metadata": {},
   "outputs": [],
   "source": [
    "from nltk.corpus import stopwords\n",
    "stop_words = set(stopwords.words('english'))"
   ]
  },
  {
   "cell_type": "markdown",
   "id": "a1be48c7",
   "metadata": {},
   "source": [
    "#### Loading the Positive and Negative Words"
   ]
  },
  {
   "cell_type": "code",
   "execution_count": 20,
   "id": "11303675",
   "metadata": {},
   "outputs": [],
   "source": [
    "def load_dictionary(file_path):\n",
    "    with open(file_path, 'r') as file:\n",
    "        return set(word.strip().lower() for word in file.readlines() if word.strip())\n",
    "\n",
    "positive_words = load_dictionary('MasterDictionary/positive-words.txt')\n",
    "negative_words = load_dictionary('MasterDictionary/negative-words.txt')"
   ]
  },
  {
   "cell_type": "markdown",
   "id": "f2967f47",
   "metadata": {},
   "source": [
    "#### Function to extract article text"
   ]
  },
  {
   "cell_type": "code",
   "execution_count": 21,
   "id": "a07231eb",
   "metadata": {},
   "outputs": [],
   "source": [
    "def extract_article_text(url):\n",
    "    try:\n",
    "        response = requests.get(url)\n",
    "        response.raise_for_status()  \n",
    "        soup = BeautifulSoup(response.content, 'html.parser')\n",
    "        title = soup.find('h1').get_text(strip=True) if soup.find('h1') else 'No Title'\n",
    "        paragraphs = soup.find_all('p')\n",
    "        article_text = ' '.join([p.get_text(strip=True) for p in paragraphs])\n",
    "        return title, article_text\n",
    "    except requests.exceptions.RequestException as e:\n",
    "        logging.error(f\"Error fetching URL {url}: {e}\")\n",
    "        return None, None"
   ]
  },
  {
   "cell_type": "markdown",
   "id": "b438870c",
   "metadata": {},
   "source": [
    "\n",
    "#### Function to clean and tokenize text"
   ]
  },
  {
   "cell_type": "code",
   "execution_count": 22,
   "id": "53be679a",
   "metadata": {},
   "outputs": [],
   "source": [
    "# Function to clean and tokenize text\n",
    "def clean_and_tokenize(text):\n",
    "    # Remove punctuation and lowercase\n",
    "    text = re.sub(r'[^\\w\\s]', '', text).lower()\n",
    "    tokens = nltk.word_tokenize(text)\n",
    "    tokens = [word for word in tokens if word not in stop_words]\n",
    "    return tokens"
   ]
  },
  {
   "cell_type": "markdown",
   "id": "918568b8",
   "metadata": {},
   "source": [
    "#### Function to calculate sentiment scores"
   ]
  },
  {
   "cell_type": "code",
   "execution_count": 23,
   "id": "3c462212",
   "metadata": {},
   "outputs": [],
   "source": [
    "def calculate_sentiment_scores(tokens):\n",
    "    positive_score = sum(1 for token in tokens if token in positive_words)\n",
    "    negative_score = sum(1 for token in tokens if token in negative_words)\n",
    "    \n",
    "    polarity_score = (positive_score - negative_score) / (positive_score + negative_score + 0.000001)\n",
    "    subjectivity_score = (positive_score + negative_score) / (len(tokens) + 0.000001)\n",
    "    \n",
    "    return positive_score, negative_score, polarity_score, subjectivity_score"
   ]
  },
  {
   "cell_type": "markdown",
   "id": "d59cd27e",
   "metadata": {},
   "source": [
    "#### calculated the readability metrics"
   ]
  },
  {
   "cell_type": "code",
   "execution_count": 24,
   "id": "d3b40ff0",
   "metadata": {},
   "outputs": [],
   "source": [
    "def calculate_readability_metrics(text):\n",
    "    sentences = nltk.sent_tokenize(text)\n",
    "    num_sentences = len(sentences)\n",
    "    words = clean_and_tokenize(text)\n",
    "    num_words = len(words)\n",
    "    avg_sentence_length = num_words / num_sentences if num_sentences > 0 else 0\n",
    "    complex_word_count = len([word for word in words if len(re.findall(r'[aeiou]', word)) > 2])\n",
    "    percentage_complex_words = complex_word_count / num_words if num_words > 0 else 0\n",
    "    fog_index = 0.4 * (avg_sentence_length + percentage_complex_words)\n",
    "    avg_number_of_words_per_sentence = num_words / num_sentences if num_sentences > 0 else 0\n",
    "    syllables_per_word = sum(len(re.findall(r'[aeiou]', word)) for word in words) / num_words if num_words > 0 else 0\n",
    "    personal_pronouns = sum(1 for word in words if word in ['i', 'we', 'my', 'ours', 'us'])\n",
    "    avg_word_length = sum(len(word) for word in words) / num_words if num_words > 0 else 0\n",
    "    return {\n",
    "        \"avg_sentence_length\": avg_sentence_length,\n",
    "        \"percentage_complex_words\": percentage_complex_words,\n",
    "        \"fog_index\": fog_index,\n",
    "        \"avg_number_of_words_per_sentence\": avg_number_of_words_per_sentence,\n",
    "        \"complex_word_count\": complex_word_count,\n",
    "        \"word_count\": num_words,\n",
    "        \"syllables_per_word\": syllables_per_word,\n",
    "        \"personal_pronouns\": personal_pronouns,\n",
    "        \"avg_word_length\": avg_word_length\n",
    "    }"
   ]
  },
  {
   "cell_type": "markdown",
   "id": "4842b4b1",
   "metadata": {},
   "source": [
    "\n",
    "#### To visualize sentiment scores"
   ]
  },
  {
   "cell_type": "code",
   "execution_count": 25,
   "id": "9ac583d7",
   "metadata": {},
   "outputs": [],
   "source": [
    "def visualize_sentiment(df):\n",
    "    plt.figure(figsize=(12, 6))\n",
    "    sns.barplot(data=df, x='URL_ID', y='POSITIVE SCORE', color='green', label='Positive Score')\n",
    "    sns.barplot(data=df, x='URL_ID', y='NEGATIVE SCORE', color='red', label='Negative Score')\n",
    "    plt.xticks(rotation=90)\n",
    "    plt.title('Sentiment Scores per URL')\n",
    "    plt.ylabel('Score')\n",
    "    plt.xlabel('URL ID')\n",
    "    plt.legend()\n",
    "    plt.tight_layout()\n",
    "    plt.savefig('sentiment_scores.png')\n",
    "    plt.show()"
   ]
  },
  {
   "cell_type": "markdown",
   "id": "c9999cc6",
   "metadata": {},
   "source": [
    "#### Function for sentiment analysis using machine learning"
   ]
  },
  {
   "cell_type": "code",
   "execution_count": 26,
   "id": "7b3aec81",
   "metadata": {},
   "outputs": [],
   "source": [
    "def advanced_sentiment_analysis(texts, labels):\n",
    "    vectorizer = CountVectorizer()\n",
    "    X = vectorizer.fit_transform(texts)\n",
    "    X_train, X_test, y_train, y_test = train_test_split(X, labels, test_size=0.2, random_state=42)   \n",
    "    model = MultinomialNB()\n",
    "    model.fit(X_train, y_train)\n",
    "    predictions = model.predict(X_test)\n",
    "    print(\"Accuracy:\", accuracy_score(y_test, predictions))\n",
    "    print(classification_report(y_test, predictions))"
   ]
  },
  {
   "cell_type": "markdown",
   "id": "6e155fd5",
   "metadata": {},
   "source": [
    "#### Main Fuction which includes : -\n",
    "- reading of URLs from input file\n",
    "- Initialzing of Data Storage\n",
    "- Iteration though each URL\n",
    "- Storing of the Output Data\n",
    "- Output saving in the Excel File\n",
    "- Sentiment Visualization\n",
    "- Result with Accuracy of 100%"
   ]
  },
  {
   "cell_type": "code",
   "execution_count": 27,
   "id": "008daae6",
   "metadata": {},
   "outputs": [
    {
     "data": {
      "image/png": "[encoded data removed]",
      "text/plain": [
       "<Figure size 1200x600 with 1 Axes>"
      ]
     },
     "metadata": {},
     "output_type": "display_data"
    },
    {
     "name": "stdout",
     "output_type": "stream",
     "text": [
      "Accuracy: 1.0\n",
      "              precision    recall  f1-score   support\n",
      "\n",
      "           1       1.00      1.00      1.00        30\n",
      "\n",
      "    accuracy                           1.00        30\n",
      "   macro avg       1.00      1.00      1.00        30\n",
      "weighted avg       1.00      1.00      1.00        30\n",
      "\n"
     ]
    }
   ],
   "source": [
    "def main(input_file):\n",
    "    df = pd.read_excel(input_file)\n",
    "    output_data = []\n",
    "    texts = []  \n",
    "    labels = []  \n",
    "    for index, row in df.iterrows():\n",
    "        url_id = f\"Netclan{row['URL_ID']}\"\n",
    "        url = row['URL']\n",
    "        title, article_text = extract_article_text(url)\n",
    "        if article_text is None:  \n",
    "            continue\n",
    "        tokens = clean_and_tokenize(article_text)\n",
    "        positive_score, negative_score, polarity_score, subjectivity_score = calculate_sentiment_scores(tokens)\n",
    "        readability_metrics = calculate_readability_metrics(article_text)\n",
    "        output_data.append({\n",
    "            \"URL_ID\": url_id,\n",
    "            \"URL\": url,\n",
    "            \"POSITIVE SCORE\": positive_score,\n",
    "            \"NEGATIVE SCORE\": negative_score,\n",
    "            \"POLARITY SCORE\": polarity_score,\n",
    "            \"SUBJECTIVITY SCORE\": subjectivity_score,\n",
    "            \"AVG SENTENCE LENGTH\": readability_metrics[\"avg_sentence_length\"],\n",
    "            \"PERCENTAGE OF COMPLEX WORDS\": readability_metrics[\"percentage_complex_words\"],\n",
    "            \"FOG INDEX\": readability_metrics[\"fog_index\"],\n",
    "            \"AVG NUMBER OF WORDS PER SENTENCE\": readability_metrics[\"avg_number_of_words_per_sentence\"],\n",
    "            \"COMPLEX WORD COUNT\": readability_metrics[\"complex_word_count\"],\n",
    "            \"WORD COUNT\": readability_metrics[\"word_count\"],\n",
    "            \"SYLLABLE PER WORD\": readability_metrics[\"syllables_per_word\"],\n",
    "            \"PERSONAL PRONOUNS\": readability_metrics[\"personal_pronouns\"],\n",
    "            \"AVG WORD LENGTH\": readability_metrics[\"avg_word_length\"]\n",
    "        })\n",
    "        texts.append(article_text) \n",
    "        labels.append(1 if positive_score > negative_score else 0)\n",
    "    output_df = pd.DataFrame(output_data)\n",
    "    output_df.to_excel('Output Data Structure.xlsx', index=False)\n",
    "    visualize_sentiment(output_df)\n",
    "    advanced_sentiment_analysis(texts, labels)\n",
    "if __name__ == \"__main__\":\n",
    "    main('Input.xlsx')"
   ]
  },
  {
   "cell_type": "code",
   "execution_count": null,
   "id": "4a24f76b",
   "metadata": {},
   "outputs": [],
   "source": []
  }
 ],
 "metadata": {
  "kernelspec": {
   "display_name": "Python 3 (ipykernel)",
   "language": "python",
   "name": "python3"
  },
  "language_info": {
   "codemirror_mode": {
    "name": "ipython",
    "version": 3
   },
   "file_extension": ".py",
   "mimetype": "text/x-python",
   "name": "python",
   "nbconvert_exporter": "python",
   "pygments_lexer": "ipython3",
   "version": "3.11.4"
  }
 },
 "nbformat": 4,
 "nbformat_minor": 5
}
